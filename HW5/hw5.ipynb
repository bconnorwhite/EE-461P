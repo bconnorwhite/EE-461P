{
 "cells": [
  {
   "cell_type": "markdown",
   "metadata": {},
   "source": [
    "\n",
    "# <p style=\"text-align: center;\">EE 461P: Data Science Principles</p>\n",
    "# <p style=\"text-align: center;\">Assignment 5</p>\n",
    "## <p style=\"text-align: center;\">Total points: 40</p>\n",
    "## <p style=\"text-align: center;\">Due: Thursday, November 30th, submitted via Canvas by 11:59 pm</p>\n",
    "\n",
    "Your homework should be written in a **Jupyter notebook**. You may work in groups of two if you wish. Only one student per team needs to submit the assignment on Canvas.  But be sure to include name and UTID for both students.  Homework groups will be created and managed through Canvas, so please do not arbitrarily change your homework group.  \n",
    "\n",
    "Also, please make sure your code runs and the graphics (and anything else) are displayed in your notebook before submitting. (%matplotlib inline)"
   ]
  },
  {
   "cell_type": "markdown",
   "metadata": {},
   "source": [
    "# Question 1: Ensembles (1+12+2 = 15pts)\n",
    "In this question, we will compare performance of different ensemble methods: [Random Forest](http://scikit-learn.org/stable/modules/generated/sklearn.ensemble.RandomForestClassifier.html), [Gradient Boosting Decision Tree](http://scikit-learn.org/stable/modules/generated/sklearn.ensemble.GradientBoostingClassifier.html) (GBDT), and [XGBoost](http://xgboost.readthedocs.io/en/latest/).  Note that you have to install xgboost package in addition to scikit-learn.  You can see installation guides [here](http://xgboost.readthedocs.io/en/latest/build.html).\n",
    "\n",
    "\n",
    "\n",
    "\n",
    "Two  datasets are provided for this problem. For **each of the datasets ((X1.csv, y1.csv), (X2.csv, y2.csv))**, do the following:\n",
    "\n",
    "1. Load the data and partition it into features (X) and the target label (y) for classification task. Then, use [train_test_split](http://scikit-learn.org/stable/modules/generated/sklearn.model_selection.train_test_split.html) to split data into training and testing: test_size=0.33, random_state=42.\n",
    "\n",
    "2. Build a classifier using [Random Forest](http://scikit-learn.org/stable/modules/generated/sklearn.ensemble.RandomForestClassifier.html), [Gradient Boosting Decision Tree](http://scikit-learn.org/stable/modules/generated/sklearn.ensemble.GradientBoostingClassifier.html), and [XGBoost](http://xgboost.readthedocs.io/en/latest/), respectively, and answer the following for each classifier.\n",
    "\n",
    " - Mention any design choices (with reasoning/justification) that you made, e.g. the hyperparameters considered for each classifier.\n",
    " - Report the mean error rate (fraction of incorrect labels) and the confusion matrix on test data. <br>\n",
    " - Report the feature importance and time of execution (training and predicting times).\n",
    "\n",
    "3. Compare the three classifiers for the two different datasets ((X1.csv, y1.csv), (X2.csv, y2.csv)) in terms of the misclassification rate.  What are the characteristics of the dataset and the classifiers that resulted in somewhat different comparative results?"
   ]
  },
  {
   "cell_type": "code",
   "execution_count": 155,
   "metadata": {
    "collapsed": true
   },
   "outputs": [],
   "source": [
    "import numpy as np\n",
    "from sklearn.ensemble import RandomForestClassifier\n",
    "from sklearn.metrics import confusion_matrix\n",
    "from sklearn.ensemble import GradientBoostingClassifier\n",
    "from sklearn.model_selection import GridSearchCV\n",
    "from xgboost.sklearn import XGBClassifier\n",
    "from time import time\n",
    "import matplotlib.pyplot as plt\n",
    "from sklearn.model_selection import train_test_split\n",
    "%matplotlib inline\n",
    "import warnings\n",
    "warnings.simplefilter('ignore')"
   ]
  },
  {
   "cell_type": "code",
   "execution_count": 185,
   "metadata": {
    "collapsed": true
   },
   "outputs": [],
   "source": [
    "from sklearn.metrics import confusion_matrix\n",
    "import pandas as pd\n",
    "import time"
   ]
  },
  {
   "cell_type": "code",
   "execution_count": 179,
   "metadata": {
    "collapsed": true
   },
   "outputs": [],
   "source": [
    "X = [pd.read_csv(\"X1.csv\"), pd.read_csv(\"X2.csv\")]\n",
    "y = [pd.read_csv(\"y1.csv\"), pd.read_csv(\"y2.csv\")]"
   ]
  },
  {
   "cell_type": "code",
   "execution_count": 178,
   "metadata": {
    "collapsed": true
   },
   "outputs": [],
   "source": [
    "X_train = [[],[]]\n",
    "X_test = [[],[]]\n",
    "y_train = [[],[]]\n",
    "y_test = [[],[]]\n",
    "\n",
    "X_train[0], X_test[0], y_train[0], y_test[0] = train_test_split(X[0], y[0], test_size=0.33, random_state=42)\n",
    "X_train[1], X_test[1], y_train[1], y_test[1] = train_test_split(X[1], y[1], test_size=0.33, random_state=42)"
   ]
  },
  {
   "cell_type": "code",
   "execution_count": 181,
   "metadata": {
    "collapsed": true
   },
   "outputs": [],
   "source": [
    "def train(model, n):\n",
    "    start = time.time()\n",
    "    model.fit(X_train[n], y_train[n])\n",
    "    return model, (time.time() - start)"
   ]
  },
  {
   "cell_type": "code",
   "execution_count": 182,
   "metadata": {
    "collapsed": true
   },
   "outputs": [],
   "source": [
    "def predict(model, n):\n",
    "    start = time.time()\n",
    "    y_preds = model.predict(X_test[n])\n",
    "    return y_preds, (time.time() - start)"
   ]
  },
  {
   "cell_type": "code",
   "execution_count": 193,
   "metadata": {
    "collapsed": true
   },
   "outputs": [],
   "source": [
    "rfc = RandomForestClassifier(n_estimators=10, criterion='gini', max_depth=None, min_samples_split=2,\n",
    "        min_samples_leaf=1, min_weight_fraction_leaf=0.0, max_features='auto', max_leaf_nodes=None,\n",
    "        min_impurity_split=None, bootstrap=True, oob_score=False, n_jobs=1, random_state=None, verbose=0,\n",
    "        warm_start=False, class_weight=None)\n",
    "gbc = GradientBoostingClassifier(loss='deviance', learning_rate=0.1, n_estimators=100,\n",
    "        subsample=1.0, criterion='friedman_mse', min_samples_split=2, min_samples_leaf=1, min_weight_fraction_leaf=0.0,\n",
    "        max_depth=3, min_impurity_split=None, init=None, random_state=None, max_features=None, verbose=0,\n",
    "        max_leaf_nodes=None, warm_start=False, presort='auto')\n",
    "xgb = XGBClassifier(learning_rate=0.1, n_estimators=1000, max_depth=5, min_child_weight=1, gamma=0, subsample=0.8,\n",
    "        colsample_bytree=0.8, objective= 'binary:logistic', nthread=4, scale_pos_weight=1, seed=27)"
   ]
  },
  {
   "cell_type": "code",
   "execution_count": 187,
   "metadata": {
    "collapsed": true
   },
   "outputs": [],
   "source": [
    "titles = [\"Random Forest Classifier\", \"Gradient Boosting Classifier\", \"XGBoost\"]\n",
    "models = [rfc, gbc, xgb]"
   ]
  },
  {
   "cell_type": "code",
   "execution_count": 198,
   "metadata": {
    "collapsed": false
   },
   "outputs": [
    {
     "name": "stdout",
     "output_type": "stream",
     "text": [
      "Set  1  -  Random Forest Classifier =================\n",
      "Training Time:  0.09690713882446289\n",
      "Feature Importances:  [  1.38209466e-01   2.34387999e-02   1.36209609e-04   1.65436724e-02\n",
      "   4.28460042e-02   0.00000000e+00   3.25945442e-02   0.00000000e+00\n",
      "   0.00000000e+00   1.48585171e-03   5.11528737e-02   0.00000000e+00\n",
      "   0.00000000e+00   0.00000000e+00   5.18759142e-03   3.05401981e-02\n",
      "   0.00000000e+00   0.00000000e+00   1.05927647e-01   0.00000000e+00\n",
      "   0.00000000e+00   2.91087066e-01   1.95915206e-01   0.00000000e+00\n",
      "   0.00000000e+00   0.00000000e+00   4.15098390e-02   2.34250303e-02\n",
      "   0.00000000e+00   0.00000000e+00]\n",
      "Predict Time:  0.0034189224243164062\n",
      "RFC Percent Correct:  0.500991735537\n",
      "Confusion Matrix:  [[1358  342]\n",
      " [ 184 1416]]\n",
      "\n",
      "Set  1  -  Gradient Boosting Classifier =================\n",
      "Training Time:  3.273698091506958\n",
      "Feature Importances:  [ 0.12359967  0.01328609  0.02539225  0.01317231  0.02086548  0.01020775\n",
      "  0.02188709  0.02318999  0.00467864  0.02026064  0.00854145  0.01458274\n",
      "  0.01009431  0.01383859  0.0102437   0.00695808  0.00499981  0.0078938\n",
      "  0.15815392  0.00844881  0.00779071  0.13244914  0.24443425  0.01840551\n",
      "  0.00890761  0.01281572  0.01109688  0.01609751  0.02319681  0.00451074]\n",
      "Predict Time:  0.0074939727783203125\n",
      "RFC Percent Correct:  0.499972451791\n",
      "Confusion Matrix:  [[1480  220]\n",
      " [ 173 1427]]\n",
      "\n",
      "Set  1  -  XGBoost =================\n",
      "Training Time:  16.748476028442383\n",
      "Feature Importances:  [ 0.06025061  0.02998226  0.02958174  0.0275791   0.02677805  0.03192768\n",
      "  0.02992504  0.02609143  0.02254391  0.02860903  0.02912399  0.02700692\n",
      "  0.0234594   0.0282085   0.02586256  0.0323282   0.02603422  0.02929565\n",
      "  0.07238084  0.02752189  0.02632031  0.07060708  0.07404017  0.02391715\n",
      "  0.02735023  0.02923843  0.02752189  0.0282085   0.03118384  0.02712136]\n",
      "Predict Time:  0.34784603118896484\n",
      "RFC Percent Correct:  0.500045913682\n",
      "Confusion Matrix:  [[1527  173]\n",
      " [ 118 1482]]\n",
      "\n",
      "Set  2  -  Random Forest Classifier =================\n",
      "Training Time:  0.37833404541015625\n",
      "Feature Importances:  [ 0.          0.          0.          0.05571409  0.06400119  0.10556154\n",
      "  0.05310405  0.10294685  0.04726098  0.2009072   0.          0.11332271\n",
      "  0.          0.04161565  0.          0.07828738  0.01965206  0.\n",
      "  0.11762631  0.        ]\n",
      "Predict Time:  0.005563974380493164\n",
      "RFC Percent Correct:  0.502279522498\n",
      "Confusion Matrix:  [[600 254]\n",
      " [118 678]]\n",
      "\n",
      "Set  2  -  Gradient Boosting Classifier =================\n",
      "Training Time:  3.57614803314209\n",
      "Feature Importances:  [ 0.03584561  0.00159719  0.00168504  0.07582648  0.06604653  0.04129662\n",
      "  0.04959452  0.07841117  0.02868397  0.12627242  0.04517815  0.08058069\n",
      "  0.          0.07592878  0.          0.09525197  0.06244134  0.00640996\n",
      "  0.09112298  0.03782659]\n",
      "Predict Time:  0.016571044921875\n",
      "RFC Percent Correct:  0.499978696051\n",
      "Confusion Matrix:  [[762  92]\n",
      " [ 64 732]]\n",
      "\n",
      "Set  2  -  XGBoost =================\n",
      "Training Time:  7.4078309535980225\n",
      "Feature Importances:  [ 0.04821619  0.0289686   0.02585788  0.05667347  0.05881209  0.0608535\n",
      "  0.05365996  0.06017303  0.05570137  0.06211723  0.05521532  0.05472927\n",
      "  0.03577331  0.06124235  0.03032954  0.06493632  0.05385438  0.02751045\n",
      "  0.05949256  0.04588315]\n",
      "Predict Time:  0.06702709197998047\n",
      "RFC Percent Correct:  0.499978696051\n",
      "Confusion Matrix:  [[788  66]\n",
      " [ 38 758]]\n",
      "\n"
     ]
    }
   ],
   "source": [
    "for set in range(0, 2):\n",
    "    for m in range(0, len(models)):\n",
    "        print(\"Set \", set+1, \" - \", titles[m], \"=================\")\n",
    "        model, elapsed = train(models[m], set)\n",
    "        print(\"Training Time: \", elapsed)\n",
    "        print(\"Feature Importances: \", model.feature_importances_)\n",
    "        y_preds, elapsed = predict(model, set)\n",
    "        print(\"Predict Time: \", elapsed)\n",
    "        print(\"RFC Percent Correct: \", np.mean(np.array(y_test[set]) != np.array(y_preds)))\n",
    "        print(\"Confusion Matrix: \", confusion_matrix(y_test[set], y_preds))\n",
    "        print()"
   ]
  },
  {
   "cell_type": "markdown",
   "metadata": {},
   "source": [
    "# Question 2: Visualization using Bokeh (10 pts)\n",
    "\n",
    "In this problem, you'll build an interactive visualization. Bokeh is a Python interactive visualization library that targets modern web browsers for presentation. For more information on Bokeh, see http://bokeh.pydata.org/en/latest/. The problem statement is as follows:\n",
    "\n",
    "Using the \"nbasalariesfull.csv\" data set from HMK4, your goal is to build a Bokeh visualization which allows the user to explore how salary (on a log scale) varies with points per game (PSG) and age. You will create a visualization that allows the user to toggle the X axis of a scatter plot between PSG and age, with the y-axis always being log Salary. Also add the hover tool so that if the user hovers over a datapoint in the plot a window pops up that shows the player name, team, position, salary, and the current x variable (PSG or age) depending on the current tab.  Color each point according to a player's position and provide a legend for the colors. Add the ability to Zoom in/out.  Add slight horizontal jitter to a player's age.\n",
    "\n",
    "Hints: \n",
    "1. see: http://bokeh.pydata.org/en/latest/docs/user_guide/tools.html#basic-tooltips for hover and zoom tool examples.\n",
    "2. See: http://bokeh.pydata.org/en/latest/docs/reference/plotting.html. Look for the scatter API.\n",
    "3. See: http://bokeh.pydata.org/en/0.10.0/docs/user_guide/styling.html#labels. For labeling axes.\n",
    "4. See: https://bokeh.pydata.org/en/latest/docs/user_guide/categorical.html  for how to use jitter transform\n",
    "5. Use output_notebook() from Bokeh to output the plot to your notebook"
   ]
  },
  {
   "cell_type": "code",
   "execution_count": 47,
   "metadata": {},
   "outputs": [
    {
     "ename": "AttributeError",
     "evalue": "unexpected attribute 'colors' to Circle, similar attributes are line_color or fill_color",
     "output_type": "error",
     "traceback": [
      "\u001b[0;31m---------------------------------------------------------------------------\u001b[0m",
      "\u001b[0;31mAttributeError\u001b[0m                            Traceback (most recent call last)",
      "\u001b[0;32m<ipython-input-47-bf59c7c35e3f>\u001b[0m in \u001b[0;36m<module>\u001b[0;34m()\u001b[0m\n\u001b[1;32m     45\u001b[0m \u001b[0;31m# Age Tab\u001b[0m\u001b[0;34m\u001b[0m\u001b[0;34m\u001b[0m\u001b[0m\n\u001b[1;32m     46\u001b[0m \u001b[0mp1\u001b[0m \u001b[0;34m=\u001b[0m \u001b[0mfigure\u001b[0m\u001b[0;34m(\u001b[0m\u001b[0mplot_width\u001b[0m\u001b[0;34m=\u001b[0m\u001b[0;36m950\u001b[0m\u001b[0;34m,\u001b[0m \u001b[0mplot_height\u001b[0m\u001b[0;34m=\u001b[0m\u001b[0;36m500\u001b[0m\u001b[0;34m,\u001b[0m \u001b[0mtools\u001b[0m\u001b[0;34m=\u001b[0m\u001b[0;34m[\u001b[0m\u001b[0mhover1\u001b[0m\u001b[0;34m,\u001b[0m \u001b[0mBoxZoomTool\u001b[0m\u001b[0;34m(\u001b[0m\u001b[0;34m)\u001b[0m\u001b[0;34m]\u001b[0m\u001b[0;34m)\u001b[0m\u001b[0;34m\u001b[0m\u001b[0m\n\u001b[0;32m---> 47\u001b[0;31m \u001b[0mp1\u001b[0m\u001b[0;34m.\u001b[0m\u001b[0mcircle\u001b[0m\u001b[0;34m(\u001b[0m\u001b[0mx\u001b[0m\u001b[0;34m=\u001b[0m\u001b[0mjitter\u001b[0m\u001b[0;34m(\u001b[0m\u001b[0;34m'age'\u001b[0m\u001b[0;34m,\u001b[0m \u001b[0mwidth\u001b[0m\u001b[0;34m=\u001b[0m\u001b[0;36m0.6\u001b[0m\u001b[0;34m,\u001b[0m \u001b[0mrange\u001b[0m\u001b[0;34m=\u001b[0m\u001b[0mplot\u001b[0m\u001b[0;34m.\u001b[0m\u001b[0mx_range\u001b[0m\u001b[0;34m)\u001b[0m\u001b[0;34m,\u001b[0m           \u001b[0my\u001b[0m\u001b[0;34m=\u001b[0m\u001b[0;34m'logSalary'\u001b[0m\u001b[0;34m,\u001b[0m \u001b[0msource\u001b[0m\u001b[0;34m=\u001b[0m\u001b[0msource\u001b[0m\u001b[0;34m,\u001b[0m \u001b[0msize\u001b[0m\u001b[0;34m=\u001b[0m\u001b[0;36m4\u001b[0m\u001b[0;34m,\u001b[0m \u001b[0mcolors\u001b[0m\u001b[0;34m=\u001b[0m\u001b[0;34m'age'\u001b[0m\u001b[0;34m,\u001b[0m \u001b[0mlegend\u001b[0m\u001b[0;34m=\u001b[0m\u001b[0;34m'position'\u001b[0m\u001b[0;34m)\u001b[0m\u001b[0;34m\u001b[0m\u001b[0m\n\u001b[0m\u001b[1;32m     48\u001b[0m \u001b[0mtab1\u001b[0m \u001b[0;34m=\u001b[0m \u001b[0mPanel\u001b[0m\u001b[0;34m(\u001b[0m\u001b[0mchild\u001b[0m\u001b[0;34m=\u001b[0m\u001b[0mp1\u001b[0m\u001b[0;34m,\u001b[0m \u001b[0mtitle\u001b[0m\u001b[0;34m=\u001b[0m\u001b[0;34m\"age\"\u001b[0m\u001b[0;34m)\u001b[0m\u001b[0;34m\u001b[0m\u001b[0m\n\u001b[1;32m     49\u001b[0m \u001b[0;34m\u001b[0m\u001b[0m\n",
      "\u001b[0;32mfakesource\u001b[0m in \u001b[0;36mcircle\u001b[0;34m(self, x, y, **kwargs)\u001b[0m\n",
      "\u001b[0;32mc:\\users\\kyle\\appdata\\local\\programs\\python\\python35\\lib\\site-packages\\bokeh\\plotting\\helpers.py\u001b[0m in \u001b[0;36mfunc\u001b[0;34m(self, **kwargs)\u001b[0m\n\u001b[1;32m    742\u001b[0m             \u001b[0mmglyph_ca\u001b[0m \u001b[0;34m=\u001b[0m \u001b[0;32mNone\u001b[0m\u001b[0;34m\u001b[0m\u001b[0m\n\u001b[1;32m    743\u001b[0m \u001b[0;34m\u001b[0m\u001b[0m\n\u001b[0;32m--> 744\u001b[0;31m         \u001b[0mglyph\u001b[0m \u001b[0;34m=\u001b[0m \u001b[0m_make_glyph\u001b[0m\u001b[0;34m(\u001b[0m\u001b[0mglyphclass\u001b[0m\u001b[0;34m,\u001b[0m \u001b[0mkwargs\u001b[0m\u001b[0;34m,\u001b[0m \u001b[0mglyph_ca\u001b[0m\u001b[0;34m)\u001b[0m\u001b[0;34m\u001b[0m\u001b[0m\n\u001b[0m\u001b[1;32m    745\u001b[0m         \u001b[0mnsglyph\u001b[0m \u001b[0;34m=\u001b[0m \u001b[0m_make_glyph\u001b[0m\u001b[0;34m(\u001b[0m\u001b[0mglyphclass\u001b[0m\u001b[0;34m,\u001b[0m \u001b[0mkwargs\u001b[0m\u001b[0;34m,\u001b[0m \u001b[0mnsglyph_ca\u001b[0m\u001b[0;34m)\u001b[0m\u001b[0;34m\u001b[0m\u001b[0m\n\u001b[1;32m    746\u001b[0m         \u001b[0msglyph\u001b[0m \u001b[0;34m=\u001b[0m \u001b[0m_make_glyph\u001b[0m\u001b[0;34m(\u001b[0m\u001b[0mglyphclass\u001b[0m\u001b[0;34m,\u001b[0m \u001b[0mkwargs\u001b[0m\u001b[0;34m,\u001b[0m \u001b[0msglyph_ca\u001b[0m\u001b[0;34m)\u001b[0m\u001b[0;34m\u001b[0m\u001b[0m\n",
      "\u001b[0;32mc:\\users\\kyle\\appdata\\local\\programs\\python\\python35\\lib\\site-packages\\bokeh\\plotting\\helpers.py\u001b[0m in \u001b[0;36m_make_glyph\u001b[0;34m(glyphclass, kws, extra)\u001b[0m\n\u001b[1;32m    305\u001b[0m     \u001b[0mkws\u001b[0m \u001b[0;34m=\u001b[0m \u001b[0mkws\u001b[0m\u001b[0;34m.\u001b[0m\u001b[0mcopy\u001b[0m\u001b[0;34m(\u001b[0m\u001b[0;34m)\u001b[0m\u001b[0;34m\u001b[0m\u001b[0m\n\u001b[1;32m    306\u001b[0m     \u001b[0mkws\u001b[0m\u001b[0;34m.\u001b[0m\u001b[0mupdate\u001b[0m\u001b[0;34m(\u001b[0m\u001b[0mextra\u001b[0m\u001b[0;34m)\u001b[0m\u001b[0;34m\u001b[0m\u001b[0m\n\u001b[0;32m--> 307\u001b[0;31m     \u001b[0;32mreturn\u001b[0m \u001b[0mglyphclass\u001b[0m\u001b[0;34m(\u001b[0m\u001b[0;34m**\u001b[0m\u001b[0mkws\u001b[0m\u001b[0;34m)\u001b[0m\u001b[0;34m\u001b[0m\u001b[0m\n\u001b[0m\u001b[1;32m    308\u001b[0m \u001b[0;34m\u001b[0m\u001b[0m\n\u001b[1;32m    309\u001b[0m \u001b[0;34m\u001b[0m\u001b[0m\n",
      "\u001b[0;32mc:\\users\\kyle\\appdata\\local\\programs\\python\\python35\\lib\\site-packages\\bokeh\\model.py\u001b[0m in \u001b[0;36m__init__\u001b[0;34m(self, **kwargs)\u001b[0m\n\u001b[1;32m    217\u001b[0m         \u001b[0mself\u001b[0m\u001b[0;34m.\u001b[0m\u001b[0m_id\u001b[0m \u001b[0;34m=\u001b[0m \u001b[0mkwargs\u001b[0m\u001b[0;34m.\u001b[0m\u001b[0mpop\u001b[0m\u001b[0;34m(\u001b[0m\u001b[0;34m\"id\"\u001b[0m\u001b[0;34m,\u001b[0m \u001b[0mmake_id\u001b[0m\u001b[0;34m(\u001b[0m\u001b[0;34m)\u001b[0m\u001b[0;34m)\u001b[0m\u001b[0;34m\u001b[0m\u001b[0m\n\u001b[1;32m    218\u001b[0m         \u001b[0mself\u001b[0m\u001b[0;34m.\u001b[0m\u001b[0m_document\u001b[0m \u001b[0;34m=\u001b[0m \u001b[0;32mNone\u001b[0m\u001b[0;34m\u001b[0m\u001b[0m\n\u001b[0;32m--> 219\u001b[0;31m         \u001b[0msuper\u001b[0m\u001b[0;34m(\u001b[0m\u001b[0mModel\u001b[0m\u001b[0;34m,\u001b[0m \u001b[0mself\u001b[0m\u001b[0;34m)\u001b[0m\u001b[0;34m.\u001b[0m\u001b[0m__init__\u001b[0m\u001b[0;34m(\u001b[0m\u001b[0;34m**\u001b[0m\u001b[0mkwargs\u001b[0m\u001b[0;34m)\u001b[0m\u001b[0;34m\u001b[0m\u001b[0m\n\u001b[0m\u001b[1;32m    220\u001b[0m         \u001b[0mdefault_theme\u001b[0m\u001b[0;34m.\u001b[0m\u001b[0mapply_to_model\u001b[0m\u001b[0;34m(\u001b[0m\u001b[0mself\u001b[0m\u001b[0;34m)\u001b[0m\u001b[0;34m\u001b[0m\u001b[0m\n\u001b[1;32m    221\u001b[0m \u001b[0;34m\u001b[0m\u001b[0m\n",
      "\u001b[0;32mc:\\users\\kyle\\appdata\\local\\programs\\python\\python35\\lib\\site-packages\\bokeh\\core\\has_props.py\u001b[0m in \u001b[0;36m__init__\u001b[0;34m(self, **properties)\u001b[0m\n\u001b[1;32m    234\u001b[0m \u001b[0;34m\u001b[0m\u001b[0m\n\u001b[1;32m    235\u001b[0m         \u001b[0;32mfor\u001b[0m \u001b[0mname\u001b[0m\u001b[0;34m,\u001b[0m \u001b[0mvalue\u001b[0m \u001b[0;32min\u001b[0m \u001b[0mproperties\u001b[0m\u001b[0;34m.\u001b[0m\u001b[0mitems\u001b[0m\u001b[0;34m(\u001b[0m\u001b[0;34m)\u001b[0m\u001b[0;34m:\u001b[0m\u001b[0;34m\u001b[0m\u001b[0m\n\u001b[0;32m--> 236\u001b[0;31m             \u001b[0msetattr\u001b[0m\u001b[0;34m(\u001b[0m\u001b[0mself\u001b[0m\u001b[0;34m,\u001b[0m \u001b[0mname\u001b[0m\u001b[0;34m,\u001b[0m \u001b[0mvalue\u001b[0m\u001b[0;34m)\u001b[0m\u001b[0;34m\u001b[0m\u001b[0m\n\u001b[0m\u001b[1;32m    237\u001b[0m \u001b[0;34m\u001b[0m\u001b[0m\n\u001b[1;32m    238\u001b[0m     \u001b[0;32mdef\u001b[0m \u001b[0m__setattr__\u001b[0m\u001b[0;34m(\u001b[0m\u001b[0mself\u001b[0m\u001b[0;34m,\u001b[0m \u001b[0mname\u001b[0m\u001b[0;34m,\u001b[0m \u001b[0mvalue\u001b[0m\u001b[0;34m)\u001b[0m\u001b[0;34m:\u001b[0m\u001b[0;34m\u001b[0m\u001b[0m\n",
      "\u001b[0;32mc:\\users\\kyle\\appdata\\local\\programs\\python\\python35\\lib\\site-packages\\bokeh\\core\\has_props.py\u001b[0m in \u001b[0;36m__setattr__\u001b[0;34m(self, name, value)\u001b[0m\n\u001b[1;32m    269\u001b[0m \u001b[0;34m\u001b[0m\u001b[0m\n\u001b[1;32m    270\u001b[0m             raise AttributeError(\"unexpected attribute '%s' to %s, %s attributes are %s\" %\n\u001b[0;32m--> 271\u001b[0;31m                 (name, self.__class__.__name__, text, nice_join(matches)))\n\u001b[0m\u001b[1;32m    272\u001b[0m \u001b[0;34m\u001b[0m\u001b[0m\n\u001b[1;32m    273\u001b[0m     \u001b[0;32mdef\u001b[0m \u001b[0m__str__\u001b[0m\u001b[0;34m(\u001b[0m\u001b[0mself\u001b[0m\u001b[0;34m)\u001b[0m\u001b[0;34m:\u001b[0m\u001b[0;34m\u001b[0m\u001b[0m\n",
      "\u001b[0;31mAttributeError\u001b[0m: unexpected attribute 'colors' to Circle, similar attributes are line_color or fill_color"
     ]
    }
   ],
   "source": [
    "import warnings\n",
    "warnings.filterwarnings('ignore')\n",
    "\n",
    "import pandas as pd\n",
    "import numpy as np\n",
    "from bokeh.models.widgets import Panel, Tabs\n",
    "from bokeh.models import CustomJS, ColumnDataSource, HoverTool, BoxZoomTool\n",
    "from bokeh.transform import jitter\n",
    "from bokeh.plotting import figure, output_notebook, show\n",
    "\n",
    "data = pd.read_csv(\"nbasalariesfull.csv\")\n",
    "data[\"logsalary\"] = data.SALARY.apply(np.log)\n",
    "\n",
    "# Data Source\n",
    "source = ColumnDataSource(data=dict(\n",
    "    age=data['Age'],\n",
    "    psg=data['PSG'],\n",
    "    logSalary=data['logsalary'],\n",
    "    playerName = data['Player'],\n",
    "    team = data['Tm'],\n",
    "    position = data['Pos'],\n",
    "    salary = data['SALARY']\n",
    "))\n",
    "\n",
    "# Hover1\n",
    "hover1 = HoverTool(tooltips = [\n",
    "    (\"player name\", \"@playerName\"),\n",
    "    (\"team\", \"@team\"),\n",
    "    (\"position\", \"@position\"),\n",
    "    (\"salary\", \"@salary\"),\n",
    "    (\"age\", \"@age\"),\n",
    "])\n",
    "\n",
    "# Hover2\n",
    "hover2 = HoverTool(tooltips = [\n",
    "    (\"player name\", \"@playerName\"),\n",
    "    (\"team\", \"@team\"),\n",
    "    (\"position\", \"@position\"),\n",
    "    (\"salary\", \"@salary\"),\n",
    "    (\"psg\", \"@psg\"),\n",
    "])\n",
    "\n",
    "#colors = [\"#%02x%02x%02x\" % (r, g, 150) for r, g in zip(np.floor(50+2*x), np.floor(30+2*y))]\n",
    "\n",
    "# Age Tab\n",
    "p1 = figure(plot_width=950, plot_height=500, tools=[hover1, BoxZoomTool()])\n",
    "p1.circle(x=jitter('age', width=0.6, range=plot.x_range), \\\n",
    "          y='logSalary', source=source, size=4, colors='age', legend='position')\n",
    "tab1 = Panel(child=p1, title=\"age\")\n",
    "\n",
    "# PSG Tab\n",
    "p2 = figure(plot_width=950, plot_height=500, tools=[hover2, BoxZoomTool()])\n",
    "p2.circle(x='psg', y='logSalary', source=source, size=4, color='position', legend='position')\n",
    "tab2 = Panel(child=p2, title=\"PSG\")\n",
    "\n",
    "\n",
    "# Plot Label\n",
    "p1.yaxis.axis_label = \"Log Salary\"\n",
    "p1.xaxis.axis_label = \"Age\"\n",
    "p2.yaxis.axis_label = \"Log Salary\"\n",
    "p2.xaxis.axis_label = \"PSG\"\n",
    "plot.legend.orientation = \"horizontal\"\n",
    "\n",
    "\n",
    "tabs = Tabs(tabs=[ tab1, tab2 ])\n",
    "show(tabs)\n",
    "output_notebook()"
   ]
  },
  {
   "cell_type": "markdown",
   "metadata": {},
   "source": [
    "# Question 3: Clustering (15 pts)\n",
    "\n",
    "## Part a\n",
    "\n",
    "This problem explores scaling, clustering, and one method of evaluating the quality of a clustering. You will also examine some of the issues in k-means clustering, and some ways to mitigate these problems. You will be using Fisher's Iris dataset available in sklearn.\n",
    "\n",
    "We wish to cluster the dataset to find any similar groups of flowers. However, we are not certain that the scales of the various features are well-suited for clustering. We will use scipy's k-means clustering package for this problem.\n",
    "\n",
    "When calculating the cluster purity, use the following equations:\n",
    "\n",
    "$ClassPurity(C_i$) = $\\frac{1}{|C_i|}\\max_j(|C_i|_{class=j})$\n",
    "\n",
    "$NetPurity$ = $\\sum_{i=1}^k\\frac{|C_i|}{|D|}purity(C_i)$\n",
    "\n",
    "where $|C_i|$ is the total number of data points assigned to cluster $C_i$, $|C_i|_{class=j}$ is the number of data points from class $j$ assigned to cluster $C_i$ and $D$ refers to the whole dataset.\n",
    "\n",
    "1. Cluster the data into 4 clusters, using K-means and calculate the NetPurity for your solution.\n",
    "2. Now linearly scale each feature so that the values range from 0 to 1. Cluster the data using the k-means algorithm (as before), and calculate the cluster purity for the clustering. Report the calculations you used to scale the features, as well as the NetPurity.\n",
    "3. Linearly scale the original dataset features so that the distribution of values for each feature has a mean of 0 and a standard deviation of 1. Cluster the data as before, and report the NetPurity obtained.\n",
    "\n"
   ]
  },
  {
   "cell_type": "code",
   "execution_count": 15,
   "metadata": {
    "collapsed": true
   },
   "outputs": [],
   "source": [
    "import numpy as np\n",
    "from sklearn.cluster import KMeans\n",
    "from sklearn import datasets"
   ]
  },
  {
   "cell_type": "code",
   "execution_count": 16,
   "metadata": {
    "collapsed": true
   },
   "outputs": [],
   "source": [
    "iris = datasets.load_iris()\n",
    "X = iris.data[:, :2]  # we only take the first two features.\n",
    "y = iris.target"
   ]
  },
  {
   "cell_type": "code",
   "execution_count": 18,
   "metadata": {
    "collapsed": false
   },
   "outputs": [
    {
     "ename": "AttributeError",
     "evalue": "module 'pml' has no attribute 'unsupervised'",
     "output_type": "error",
     "traceback": [
      "\u001b[0;31m---------------------------------------------------------------------------\u001b[0m",
      "\u001b[0;31mAttributeError\u001b[0m                            Traceback (most recent call last)",
      "\u001b[0;32m<ipython-input-18-f0afef73d9f6>\u001b[0m in \u001b[0;36m<module>\u001b[0;34m()\u001b[0m\n\u001b[1;32m      3\u001b[0m \u001b[0;34m\u001b[0m\u001b[0m\n\u001b[1;32m      4\u001b[0m \u001b[0;32mimport\u001b[0m \u001b[0mpml\u001b[0m\u001b[0;34m\u001b[0m\u001b[0m\n\u001b[0;32m----> 5\u001b[0;31m \u001b[0mpml\u001b[0m\u001b[0;34m.\u001b[0m\u001b[0munsupervised\u001b[0m\u001b[0;34m.\u001b[0m\u001b[0mclustering\u001b[0m\u001b[0;34m.\u001b[0m\u001b[0mClusteredDataSet\u001b[0m\u001b[0;34m(\u001b[0m\u001b[0mX\u001b[0m\u001b[0;34m,\u001b[0m\u001b[0my\u001b[0m\u001b[0;34m)\u001b[0m\u001b[0;34m.\u001b[0m\u001b[0mcalculate_purity\u001b[0m\u001b[0;34m(\u001b[0m\u001b[0;34m)\u001b[0m\u001b[0;34m\u001b[0m\u001b[0m\n\u001b[0m",
      "\u001b[0;31mAttributeError\u001b[0m: module 'pml' has no attribute 'unsupervised'"
     ]
    }
   ],
   "source": [
    "km = KMeans(n_clusters=4, random_state=0)\n",
    "km.fit(X)\n",
    "\n",
    "import pml\n",
    "pml.unsupervised.clustering.ClusteredDataSet(X,y).calculate_purity()"
   ]
  },
  {
   "cell_type": "code",
   "execution_count": 10,
   "metadata": {
    "collapsed": true
   },
   "outputs": [],
   "source": [
    "#calc net purity here kyle ->"
   ]
  },
  {
   "cell_type": "code",
   "execution_count": 8,
   "metadata": {
    "collapsed": false
   },
   "outputs": [
    {
     "data": {
      "text/plain": [
       "array([[ 0.22222222,  0.625     ],\n",
       "       [ 0.16666667,  0.41666667],\n",
       "       [ 0.11111111,  0.5       ],\n",
       "       [ 0.08333333,  0.45833333],\n",
       "       [ 0.19444444,  0.66666667],\n",
       "       [ 0.30555556,  0.79166667],\n",
       "       [ 0.08333333,  0.58333333],\n",
       "       [ 0.19444444,  0.58333333],\n",
       "       [ 0.02777778,  0.375     ],\n",
       "       [ 0.16666667,  0.45833333],\n",
       "       [ 0.30555556,  0.70833333],\n",
       "       [ 0.13888889,  0.58333333],\n",
       "       [ 0.13888889,  0.41666667],\n",
       "       [ 0.        ,  0.41666667],\n",
       "       [ 0.41666667,  0.83333333],\n",
       "       [ 0.38888889,  1.        ],\n",
       "       [ 0.30555556,  0.79166667],\n",
       "       [ 0.22222222,  0.625     ],\n",
       "       [ 0.38888889,  0.75      ],\n",
       "       [ 0.22222222,  0.75      ],\n",
       "       [ 0.30555556,  0.58333333],\n",
       "       [ 0.22222222,  0.70833333],\n",
       "       [ 0.08333333,  0.66666667],\n",
       "       [ 0.22222222,  0.54166667],\n",
       "       [ 0.13888889,  0.58333333],\n",
       "       [ 0.19444444,  0.41666667],\n",
       "       [ 0.19444444,  0.58333333],\n",
       "       [ 0.25      ,  0.625     ],\n",
       "       [ 0.25      ,  0.58333333],\n",
       "       [ 0.11111111,  0.5       ],\n",
       "       [ 0.13888889,  0.45833333],\n",
       "       [ 0.30555556,  0.58333333],\n",
       "       [ 0.25      ,  0.875     ],\n",
       "       [ 0.33333333,  0.91666667],\n",
       "       [ 0.16666667,  0.45833333],\n",
       "       [ 0.19444444,  0.5       ],\n",
       "       [ 0.33333333,  0.625     ],\n",
       "       [ 0.16666667,  0.45833333],\n",
       "       [ 0.02777778,  0.41666667],\n",
       "       [ 0.22222222,  0.58333333],\n",
       "       [ 0.19444444,  0.625     ],\n",
       "       [ 0.05555556,  0.125     ],\n",
       "       [ 0.02777778,  0.5       ],\n",
       "       [ 0.19444444,  0.625     ],\n",
       "       [ 0.22222222,  0.75      ],\n",
       "       [ 0.13888889,  0.41666667],\n",
       "       [ 0.22222222,  0.75      ],\n",
       "       [ 0.08333333,  0.5       ],\n",
       "       [ 0.27777778,  0.70833333],\n",
       "       [ 0.19444444,  0.54166667],\n",
       "       [ 0.75      ,  0.5       ],\n",
       "       [ 0.58333333,  0.5       ],\n",
       "       [ 0.72222222,  0.45833333],\n",
       "       [ 0.33333333,  0.125     ],\n",
       "       [ 0.61111111,  0.33333333],\n",
       "       [ 0.38888889,  0.33333333],\n",
       "       [ 0.55555556,  0.54166667],\n",
       "       [ 0.16666667,  0.16666667],\n",
       "       [ 0.63888889,  0.375     ],\n",
       "       [ 0.25      ,  0.29166667],\n",
       "       [ 0.19444444,  0.        ],\n",
       "       [ 0.44444444,  0.41666667],\n",
       "       [ 0.47222222,  0.08333333],\n",
       "       [ 0.5       ,  0.375     ],\n",
       "       [ 0.36111111,  0.375     ],\n",
       "       [ 0.66666667,  0.45833333],\n",
       "       [ 0.36111111,  0.41666667],\n",
       "       [ 0.41666667,  0.29166667],\n",
       "       [ 0.52777778,  0.08333333],\n",
       "       [ 0.36111111,  0.20833333],\n",
       "       [ 0.44444444,  0.5       ],\n",
       "       [ 0.5       ,  0.33333333],\n",
       "       [ 0.55555556,  0.20833333],\n",
       "       [ 0.5       ,  0.33333333],\n",
       "       [ 0.58333333,  0.375     ],\n",
       "       [ 0.63888889,  0.41666667],\n",
       "       [ 0.69444444,  0.33333333],\n",
       "       [ 0.66666667,  0.41666667],\n",
       "       [ 0.47222222,  0.375     ],\n",
       "       [ 0.38888889,  0.25      ],\n",
       "       [ 0.33333333,  0.16666667],\n",
       "       [ 0.33333333,  0.16666667],\n",
       "       [ 0.41666667,  0.29166667],\n",
       "       [ 0.47222222,  0.29166667],\n",
       "       [ 0.30555556,  0.41666667],\n",
       "       [ 0.47222222,  0.58333333],\n",
       "       [ 0.66666667,  0.45833333],\n",
       "       [ 0.55555556,  0.125     ],\n",
       "       [ 0.36111111,  0.41666667],\n",
       "       [ 0.33333333,  0.20833333],\n",
       "       [ 0.33333333,  0.25      ],\n",
       "       [ 0.5       ,  0.41666667],\n",
       "       [ 0.41666667,  0.25      ],\n",
       "       [ 0.19444444,  0.125     ],\n",
       "       [ 0.36111111,  0.29166667],\n",
       "       [ 0.38888889,  0.41666667],\n",
       "       [ 0.38888889,  0.375     ],\n",
       "       [ 0.52777778,  0.375     ],\n",
       "       [ 0.22222222,  0.20833333],\n",
       "       [ 0.38888889,  0.33333333],\n",
       "       [ 0.55555556,  0.54166667],\n",
       "       [ 0.41666667,  0.29166667],\n",
       "       [ 0.77777778,  0.41666667],\n",
       "       [ 0.55555556,  0.375     ],\n",
       "       [ 0.61111111,  0.41666667],\n",
       "       [ 0.91666667,  0.41666667],\n",
       "       [ 0.16666667,  0.20833333],\n",
       "       [ 0.83333333,  0.375     ],\n",
       "       [ 0.66666667,  0.20833333],\n",
       "       [ 0.80555556,  0.66666667],\n",
       "       [ 0.61111111,  0.5       ],\n",
       "       [ 0.58333333,  0.29166667],\n",
       "       [ 0.69444444,  0.41666667],\n",
       "       [ 0.38888889,  0.20833333],\n",
       "       [ 0.41666667,  0.33333333],\n",
       "       [ 0.58333333,  0.5       ],\n",
       "       [ 0.61111111,  0.41666667],\n",
       "       [ 0.94444444,  0.75      ],\n",
       "       [ 0.94444444,  0.25      ],\n",
       "       [ 0.47222222,  0.08333333],\n",
       "       [ 0.72222222,  0.5       ],\n",
       "       [ 0.36111111,  0.33333333],\n",
       "       [ 0.94444444,  0.33333333],\n",
       "       [ 0.55555556,  0.29166667],\n",
       "       [ 0.66666667,  0.54166667],\n",
       "       [ 0.80555556,  0.5       ],\n",
       "       [ 0.52777778,  0.33333333],\n",
       "       [ 0.5       ,  0.41666667],\n",
       "       [ 0.58333333,  0.33333333],\n",
       "       [ 0.80555556,  0.41666667],\n",
       "       [ 0.86111111,  0.33333333],\n",
       "       [ 1.        ,  0.75      ],\n",
       "       [ 0.58333333,  0.33333333],\n",
       "       [ 0.55555556,  0.33333333],\n",
       "       [ 0.5       ,  0.25      ],\n",
       "       [ 0.94444444,  0.41666667],\n",
       "       [ 0.55555556,  0.58333333],\n",
       "       [ 0.58333333,  0.45833333],\n",
       "       [ 0.47222222,  0.41666667],\n",
       "       [ 0.72222222,  0.45833333],\n",
       "       [ 0.66666667,  0.45833333],\n",
       "       [ 0.72222222,  0.45833333],\n",
       "       [ 0.41666667,  0.29166667],\n",
       "       [ 0.69444444,  0.5       ],\n",
       "       [ 0.66666667,  0.54166667],\n",
       "       [ 0.66666667,  0.41666667],\n",
       "       [ 0.55555556,  0.20833333],\n",
       "       [ 0.61111111,  0.41666667],\n",
       "       [ 0.52777778,  0.58333333],\n",
       "       [ 0.44444444,  0.41666667]])"
      ]
     },
     "execution_count": 8,
     "metadata": {},
     "output_type": "execute_result"
    }
   ],
   "source": [
    "import sklearn.preprocessing as preprocessing\n",
    "min_max_scaler = preprocessing.MinMaxScaler()\n",
    "X_scaled = min_max_scaler.fit_transform(X)\n",
    "X_scaled"
   ]
  },
  {
   "cell_type": "code",
   "execution_count": 11,
   "metadata": {
    "collapsed": false
   },
   "outputs": [
    {
     "data": {
      "text/plain": [
       "KMeans(algorithm='auto', copy_x=True, init='k-means++', max_iter=300,\n",
       "    n_clusters=4, n_init=10, n_jobs=1, precompute_distances='auto',\n",
       "    random_state=0, tol=0.0001, verbose=0)"
      ]
     },
     "execution_count": 11,
     "metadata": {},
     "output_type": "execute_result"
    }
   ],
   "source": [
    "km.fit(X_scaled)"
   ]
  },
  {
   "cell_type": "markdown",
   "metadata": {},
   "source": [
    "## Part b\n",
    "\n",
    "Run both single link and complete link hierarchical clustering algorithms on the iris dataset, and submit the two dendograms. \n",
    "\n",
    "1. For each dendogram, visually inspect it to suggest what value(s) of $k$ (between 1 and 6) seem reasonable to choose for this dataset. \n",
    "2. Do you observe any difference in the structure of the 2 dendograms? How do you explain this difference?"
   ]
  },
  {
   "cell_type": "code",
   "execution_count": 11,
   "metadata": {
    "collapsed": false
   },
   "outputs": [
    {
     "data": {
      "image/png": "[encoded data removed]",
      "text/plain": [
       "<matplotlib.figure.Figure at 0x131eedd2320>"
      ]
     },
     "metadata": {},
     "output_type": "display_data"
    }
   ],
   "source": [
    "% matplotlib inline\n",
    "from matplotlib import pyplot as plt\n",
    "import numpy as np\n",
    "from scipy.cluster.hierarchy import dendrogram, linkage\n",
    "from sklearn import datasets\n",
    "\n",
    "iris = datasets.load_iris()\n",
    "X = iris.data[:, :2]  # we only take the first two features.\n",
    "\n",
    "single_link = linkage(y=X, method='single')\n",
    "complete_link = linkage(y=X, method='complete')\n",
    "\n",
    "dendrogram(single_link, truncate_mode='lastp')\n",
    "plt.show()"
   ]
  },
  {
   "cell_type": "code",
   "execution_count": 13,
   "metadata": {
    "collapsed": false
   },
   "outputs": [
    {
     "data": {
      "image/png": "[encoded data removed]",
      "text/plain": [
       "<matplotlib.figure.Figure at 0x131ed8114a8>"
      ]
     },
     "metadata": {},
     "output_type": "display_data"
    }
   ],
   "source": [
    "dendrogram(complete_link, truncate_mode='lastp')\n",
    "plt.show()"
   ]
  },
  {
   "cell_type": "markdown",
   "metadata": {},
   "source": [
    "1)\n",
    "The single-link plot almost looks like a large, single cluster. 2 clusters could be formed from the green, and then the blue and red combined. I would say k = 1-2 for the single-link.\n",
    "\n",
    "The complete-link plot seems to have 4 clusters. The green, red, and then 2 from the first branch of the blue. I would say k = 4 for the complete-link.\n",
    "\n",
    "2)\n",
    "The single-link dendrogram has a majority of datapoints in the red cluster, while the complete-link dendrogram has more evently distributed clusters. The single-link cluster has such a large cluster of points because it expands clusters by looking at the closest point in the existing cluster, whereas complete-link looks at the furthest away point. This means that the single-link will form a long chain of closely related points, where as the complete link will for clusters where no points are too far apart from any other point."
   ]
  },
  {
   "cell_type": "markdown",
   "metadata": {},
   "source": [
    "## Part c\n",
    "\n",
    "1. What is the cost function minimised in the k-means clustering algorithm?\n",
    "2. Explain how this can be generalized to be of the form $J = \\sum_{i=1}^k n_i s_i$, where $s_i$ is the average squared (Euclidean) distance between pairs of points in cluster $i$ (every point is compared with every point - including itself - in the same cluster, so we have $n_i^2$ comparisions that are averaged over to get $s_i$), \n",
    "and $n_i$ is the total number of points in cluster $i$.\n",
    "3. What would the benefit of such a generalized expression be?"
   ]
  },
  {
   "cell_type": "markdown",
   "metadata": {},
   "source": [
    "1. Standard Expression, $J = \\sum_{i=1}^k \\sum_{x \\in S_i} ||x-\\mu_i||^2$, where \\mu_i is the mean of the points in S_i\n",
    "2. Generalized expression, \n",
    "    $J = \\sum_{i=1}^k n_i * (||x-\\mu_i||^2 /n_i)$ where n_i is the number of samples in each cluster\n",
    "    \n",
    "    $J = \\sum_{i=1}^k n_i * s_i $ where s_i is the variance within each cluster\n",
    "\n",
    "3. Benefit: $s_i$ can now be replaced with any similarity metric based on the clustering problem requirements"
   ]
  }
 ],
 "metadata": {
  "anaconda-cloud": {},
  "kernelspec": {
   "display_name": "Python 3",
   "language": "python",
   "name": "python3"
  },
  "language_info": {
   "codemirror_mode": {
    "name": "ipython",
    "version": 3
   },
   "file_extension": ".py",
   "mimetype": "text/x-python",
   "name": "python",
   "nbconvert_exporter": "python",
   "pygments_lexer": "ipython3",
   "version": "3.5.3"
  }
 },
 "nbformat": 4,
 "nbformat_minor": 1
}
